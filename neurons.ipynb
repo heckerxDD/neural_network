{
 "cells": [
  {
   "cell_type": "code",
   "execution_count": 1,
   "metadata": {},
   "outputs": [],
   "source": [
    "import numpy as np\n",
    "import matplotlib.pyplot as plt\n",
    "import pandas as pd\n",
    "import math \n"
   ]
  },
  {
   "cell_type": "code",
   "execution_count": 3,
   "metadata": {},
   "outputs": [],
   "source": [
    "# layer is just a collection of neurons, all of which take the exact same inputs \n",
    "# each neuron has its own weights and bias\n",
    "class Neuron:\n",
    "    def __init__(self, inputs, weights, bias):\n",
    "        self.inputs = inputs\n",
    "        self.weights = weights\n",
    "        self.bias = bias\n",
    "\n",
    "    def get_weighted_sum(self):\n",
    "        return np.dot(self.inputs, self.weights) + self.bias\n",
    "    \n",
    "class Layer:\n",
    "    def __init__(self, neurons):\n",
    "        self.neurons = neurons\n",
    "\n",
    "    def get_layer_output(self):\n",
    "        layer_output = []\n",
    "        for neuron in self.neurons:\n",
    "            layer_output.append(neuron.get_weighted_sum())\n",
    "        return layer_output\n",
    "\n",
    "    "
   ]
  },
  {
   "cell_type": "code",
   "execution_count": 4,
   "metadata": {},
   "outputs": [
    {
     "data": {
      "text/plain": [
       "[4.8, 1.2099999999999997, 2.385]"
      ]
     },
     "execution_count": 4,
     "metadata": {},
     "output_type": "execute_result"
    }
   ],
   "source": [
    "L1_inputs = inputs=np.array([1, 2, 3, 2.5])\n",
    "L1N1 = Neuron(inputs=L1_inputs, \\\n",
    "                weights=np.array([0.2, 0.8, -0.5, 1.0]), \\\n",
    "                bias=2)\n",
    "L1N2 = Neuron(inputs=L1_inputs, \\\n",
    "                weights=np.array([0.5, -0.91, 0.26, -0.5]), \\\n",
    "                bias=3)\n",
    "L1N3 = Neuron(inputs=L1_inputs, \\\n",
    "                weights=np.array([-0.26, -0.27, 0.17, 0.87]), \\\n",
    "                bias=0.5)\n",
    "L1 = Layer([L1N1, L1N2, L1N3])\n",
    "L1_output = L1.get_layer_output()\n",
    "L1_output"
   ]
  },
  {
   "cell_type": "code",
   "execution_count": 5,
   "metadata": {},
   "outputs": [],
   "source": [
    "def sigmoid(x):\n",
    "    return 1 / (1 + np.exp(-x))\n",
    "\n",
    "#inputs = np.array([1, 2, 3, 2.5])\n",
    "#weights = np.array([[0.2, 0.8, -0.5, 1],\n",
    "#                    [0.5, -0.91, 0.26, -0.5],\n",
    "#                    [-0.26, -0.27, 0.17, 0.87]])\n",
    "#biases = np.array([2, 3, 0.5])\n",
    "inputs = np.random.randint(1, 10, size=50) * 1.0\n",
    "weights_raw = np.random.randint(-9, 10, size=1250) * 0.1\n",
    "weights = weights_raw.reshape(25, 50)\n",
    "biases = np.random.randint(-5, 6, size=25) * 1.0\n",
    "'''\n",
    "if consider weights as a matrix of n rows by m columns (NxM), \n",
    "then the bias vector is of length N, \n",
    "and the input vector is of length M.\n",
    "number of rows (N) determines the number of neurons in the layer.\n",
    "number of columns (M) determines the number of inputs to each neuron.\n",
    "'''\n",
    "\n",
    "# initialize curent layer output \n",
    "layer_output = []\n",
    "\n",
    "# iterate through neurons \n",
    "for neuron_weights, neuron_bias in zip(weights, biases):\n",
    "    neuron_output = 0\n",
    "    # now, each loop iteration represents a neuron\n",
    "    for n_input, weight in zip(inputs, neuron_weights):\n",
    "        neuron_output += n_input * weight\n",
    "        # calculate the weighted sum for 1 neuron, of all inputs\n",
    "    neuron_output += neuron_bias\n",
    "    neuron_activation = sigmoid(neuron_output)\n",
    "    layer_output.append(neuron_activation)\n",
    "\n"
   ]
  },
  {
   "cell_type": "code",
   "execution_count": 13,
   "metadata": {},
   "outputs": [
    {
     "data": {
      "text/plain": [
       "array([[20]])"
      ]
     },
     "execution_count": 13,
     "metadata": {},
     "output_type": "execute_result"
    }
   ],
   "source": [
    "# note the difference of row vector and a vector \n",
    "\n",
    "a = [1, 2, 3]\n",
    "a_vector = np.array(a) # a vector with a shape(3,)\n",
    "a_row_vector = np.array([a]) # a row vector, as defined to be a 1 by n matrix, with a shape (1,3)\n",
    "b = [2, 3, 4]\n",
    "b_vector = np.array(b) # another vector with a shape(3,)\n",
    "b_row_vector = np.array([b]) # another row vector, as defined to be a 1 by n matrix, with a shape (1,3)\n",
    "b_column_vector = b_row_vector.T # a column vector, as defined to be an n by 1 matrix, with a shape (3,1)\n",
    "# now, a dot b becomes matrix operation \n",
    "np.dot(a_row_vector, b_column_vector)"
   ]
  },
  {
   "cell_type": "code",
   "execution_count": 18,
   "metadata": {},
   "outputs": [
    {
     "data": {
      "text/plain": [
       "array([[ 0.5031 , -1.04185, -2.03875],\n",
       "       [ 0.2434 , -2.7332 , -5.7633 ],\n",
       "       [-0.99314,  1.41254, -0.35655]])"
      ]
     },
     "execution_count": 18,
     "metadata": {},
     "output_type": "execute_result"
    }
   ],
   "source": [
    "inputs = np.array([[1.0, 2.0, 3.0, 2.5],\n",
    "          [2.0, 5.0, -1.0, 2.0],\n",
    "          [-1.5, 2.7, 3.3, -0.8]])\n",
    "weights = np.array([[0.2, 0.8, -0.5, 1.0],\n",
    "           [0.5, -0.91, 0.26, -0.5],\n",
    "           [-0.26, -0.27, 0.17, 0.87]])\n",
    "biases = np.array([2.0, 3.0, 0.5])\n",
    "\n",
    "weights2 = np.array([\n",
    "    [0.1, -0.14, 0.5],\n",
    "    [-0.5, 0.12, -0.33],\n",
    "    [-0.44, 0.73, -0.13]\n",
    "])\n",
    "biases2 = np.array([-1, 2, -0.5])\n",
    "layer1_outputs = np.dot(inputs, weights.T) + biases\n",
    "layer2_outputs = np.dot(layer1_outputs, weights2.T) + biases2\n",
    "layer2_outputs"
   ]
  },
  {
   "cell_type": "code",
   "execution_count": 35,
   "metadata": {},
   "outputs": [
    {
     "data": {
      "text/plain": [
       "4"
      ]
     },
     "execution_count": 35,
     "metadata": {},
     "output_type": "execute_result"
    }
   ],
   "source": []
  },
  {
   "cell_type": "code",
   "execution_count": null,
   "metadata": {},
   "outputs": [],
   "source": []
  }
 ],
 "metadata": {
  "kernelspec": {
   "display_name": "Python 3 (ipykernel)",
   "language": "python",
   "name": "python3"
  },
  "language_info": {
   "codemirror_mode": {
    "name": "ipython",
    "version": 3
   },
   "file_extension": ".py",
   "mimetype": "text/x-python",
   "name": "python",
   "nbconvert_exporter": "python",
   "pygments_lexer": "ipython3",
   "version": "3.12.2"
  }
 },
 "nbformat": 4,
 "nbformat_minor": 4
}
