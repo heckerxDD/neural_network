{
 "cells": [
  {
   "cell_type": "code",
   "execution_count": 52,
   "metadata": {},
   "outputs": [],
   "source": [
    "import numpy as np\n",
    "import matplotlib.pyplot as plt\n",
    "import pandas as pd\n",
    "import math \n"
   ]
  },
  {
   "cell_type": "code",
   "execution_count": 53,
   "metadata": {},
   "outputs": [],
   "source": [
    "# layer is just a collection of neurons, all of which take the exact same inputs \n",
    "# each neuron has its own weights and bias\n",
    "class Neuron:\n",
    "    def __init__(self, inputs, weights, bias):\n",
    "        self.inputs = inputs\n",
    "        self.weights = weights\n",
    "        self.bias = bias\n",
    "\n",
    "    def get_weighted_sum(self):\n",
    "        return np.dot(self.inputs, self.weights) + self.bias\n",
    "    \n",
    "class Layer:\n",
    "    def __init__(self, neurons):\n",
    "        self.neurons = neurons\n",
    "\n",
    "    def get_layer_output(self):\n",
    "        layer_output = []\n",
    "        for neuron in self.neurons:\n",
    "            layer_output.append(neuron.get_weighted_sum())\n",
    "        return layer_output\n",
    "\n",
    "    "
   ]
  },
  {
   "cell_type": "code",
   "execution_count": 54,
   "metadata": {},
   "outputs": [
    {
     "data": {
      "text/plain": [
       "[4.8, 1.2099999999999997, 2.385]"
      ]
     },
     "execution_count": 54,
     "metadata": {},
     "output_type": "execute_result"
    }
   ],
   "source": [
    "L1_inputs = inputs=np.array([1, 2, 3, 2.5])\n",
    "L1N1 = Neuron(inputs=L1_inputs, \\\n",
    "                weights=np.array([0.2, 0.8, -0.5, 1.0]), \\\n",
    "                bias=2)\n",
    "L1N2 = Neuron(inputs=L1_inputs, \\\n",
    "                weights=np.array([0.5, -0.91, 0.26, -0.5]), \\\n",
    "                bias=3)\n",
    "L1N3 = Neuron(inputs=L1_inputs, \\\n",
    "                weights=np.array([-0.26, -0.27, 0.17, 0.87]), \\\n",
    "                bias=0.5)\n",
    "L1 = Layer([L1N1, L1N2, L1N3])\n",
    "L1_output = L1.get_layer_output()\n",
    "L1_output"
   ]
  },
  {
   "cell_type": "code",
   "execution_count": 56,
   "metadata": {},
   "outputs": [],
   "source": [
    "def sigmoid(x):\n",
    "    return 1 / (1 + np.exp(-x))\n",
    "\n",
    "#inputs = np.array([1, 2, 3, 2.5])\n",
    "#weights = np.array([[0.2, 0.8, -0.5, 1],\n",
    "#                    [0.5, -0.91, 0.26, -0.5],\n",
    "#                    [-0.26, -0.27, 0.17, 0.87]])\n",
    "#biases = np.array([2, 3, 0.5])\n",
    "inputs = np.random.randint(1, 10, size=50) * 1.0\n",
    "weights_raw = np.random.randint(-9, 10, size=1250) * 0.1\n",
    "weights = weights_raw.reshape(25, 50)\n",
    "biases = np.random.randint(-5, 6, size=25) * 1.0\n",
    "'''\n",
    "if consider weights as a matrix of n rows by m columns (NxM), \n",
    "then the bias vector is of length N, \n",
    "and the input vector is of length M.\n",
    "number of rows (N) determines the number of neurons in the layer.\n",
    "number of columns (M) determines the number of inputs to each neuron.\n",
    "'''\n",
    "\n",
    "# initialize curent layer output \n",
    "layer_output = []\n",
    "\n",
    "# iterate through neurons \n",
    "for neuron_weights, neuron_bias in zip(weights, biases):\n",
    "    neuron_output = 0\n",
    "    # now, each loop iteration represents a neuron\n",
    "    for n_input, weight in zip(inputs, neuron_weights):\n",
    "        neuron_output += n_input * weight\n",
    "        # calculate the weighted sum for 1 neuron, of all inputs\n",
    "    neuron_output += neuron_bias\n",
    "    neuron_activation = sigmoid(neuron_output)\n",
    "    layer_output.append(neuron_activation)\n",
    "\n"
   ]
  },
  {
   "cell_type": "code",
   "execution_count": null,
   "metadata": {},
   "outputs": [],
   "source": []
  }
 ],
 "metadata": {
  "kernelspec": {
   "display_name": "Python 3 (ipykernel)",
   "language": "python",
   "name": "python3"
  },
  "language_info": {
   "codemirror_mode": {
    "name": "ipython",
    "version": 3
   },
   "file_extension": ".py",
   "mimetype": "text/x-python",
   "name": "python",
   "nbconvert_exporter": "python",
   "pygments_lexer": "ipython3",
   "version": "3.12.2"
  }
 },
 "nbformat": 4,
 "nbformat_minor": 4
}
